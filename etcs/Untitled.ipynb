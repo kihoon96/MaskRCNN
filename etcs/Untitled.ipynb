{
 "cells": [
  {
   "cell_type": "code",
   "execution_count": 1,
   "id": "643efb11",
   "metadata": {},
   "outputs": [],
   "source": [
    "import numpy\n",
    "\n",
    "#xyxy\n",
    "def area(box):\n",
    "    return (box[2] - box[0]) * (box[3] - box[1])\n",
    "\n",
    "#xyxy\n",
    "def get_IoU(box1, box2):\n",
    "    if (box1[0] <= box2[0]) and (box1[1] <= box2[1]):\n",
    "        w_union = box1[2] - box2[0]\n",
    "        h_union = box1[3] - box2[1]\n",
    "    elif (box1[0] <= box2[0]) and (box1[1] > box2[1]):\n",
    "        w_union = box1[2] - box2[0]\n",
    "        h_union = box2[3] - box1[1]\n",
    "    elif (box1[0] > box2[0]) and (box1[1] > box2[1]):\n",
    "        w_union = box2[2] - box1[0]\n",
    "        h_union = box2[3] - box1[1]\n",
    "    elif (box1[0] > box2[0]) and (box1[1] <= box2[1]):\n",
    "        w_union = box2[2] - box1[0]\n",
    "        h_union = box1[3] - box2[1]\n",
    "    else:\n",
    "        raise ValueError('IoU imposible case')\n",
    "    \n",
    "    IoU = 0\n",
    "    if ((w_union > 0) and (h_union > 0)):\n",
    "        inter_area = w_union * h_union\n",
    "        union_area = area(box1) + area(box2) - inter_area\n",
    "        IoU = inter_area / union_area\n",
    "\n",
    "    return IoU"
   ]
  },
  {
   "cell_type": "code",
   "execution_count": 12,
   "id": "28429af2",
   "metadata": {},
   "outputs": [],
   "source": [
    "box2 = [0,0,4,4]\n",
    "box1 = [2,2,6,6]"
   ]
  },
  {
   "cell_type": "code",
   "execution_count": 13,
   "id": "7b0219de",
   "metadata": {},
   "outputs": [
    {
     "data": {
      "text/plain": [
       "0.14285714285714285"
      ]
     },
     "execution_count": 13,
     "metadata": {},
     "output_type": "execute_result"
    }
   ],
   "source": [
    "get_IoU(box1, box2)"
   ]
  },
  {
   "cell_type": "code",
   "execution_count": null,
   "id": "34ac348a",
   "metadata": {},
   "outputs": [],
   "source": []
  }
 ],
 "metadata": {
  "kernelspec": {
   "display_name": "da",
   "language": "python",
   "name": "da"
  },
  "language_info": {
   "codemirror_mode": {
    "name": "ipython",
    "version": 3
   },
   "file_extension": ".py",
   "mimetype": "text/x-python",
   "name": "python",
   "nbconvert_exporter": "python",
   "pygments_lexer": "ipython3",
   "version": "3.8.12"
  }
 },
 "nbformat": 4,
 "nbformat_minor": 5
}
